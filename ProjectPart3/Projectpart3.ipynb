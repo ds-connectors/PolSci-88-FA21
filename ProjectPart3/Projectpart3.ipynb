{
 "cells": [
  {
   "cell_type": "markdown",
   "id": "b4d0f03a",
   "metadata": {},
   "source": [
    "# PS 88 Project Part 3\n",
    "\n",
    "The goal of the final part of the project is to extend the analysis of one of the replication papers, or any other data set we have worked on in any of the labs or class examples. Regardless of dataset you start with, the goal is to provide new theoretical insights by introducing some new data and running some new analysis.\n",
    "\n",
    "The parameters here will be much looser; the only concrete requirements are that you (1) do at least one merging of different data frames, and (2) run at least two new regressions and create at least two visualizations (histograms, scatterplots, line plots, etc), some of which involve the \"new\" variables you merged in.\n",
    "\n",
    "On the second part, here are some ideas of what doing new analysis might entail, some of which will work better than others depending on what data you start with:\n",
    "- Run the analysis with a different dependent variable\n",
    "- Run the analysis with a different independent variable\n",
    "- Run the analysis on a subset of the data, where we might expect the causal effect to be different\n",
    "- Add a control variable to the regression that might help control for some confounding variable\n",
    "\n",
    "See the relevant piazza posts for some pointers to potentially useful data sources and tips for merging them properly.\n",
    "\n",
    "A final hint: you may want to complete step 1 last, or at least after you have done the main analysis in steps 2 and 3.\n",
    "\n",
    "In terms of formatting, add as many code/mardown cells as you need below. We provide some general guidance about how much writing/coding to do, but you don't necesarily need to worry if yours is a bit shorter or longer. Feel free to check with us if you are unsure!"
   ]
  },
  {
   "cell_type": "markdown",
   "id": "1ea47942",
   "metadata": {},
   "source": [
    "## Step 1: Theory\n",
    "\n",
    "What is the theoretical question or causal relationship you aim to explore with your analysis? What relationships do you expect to see in the data? (5-10 sentences)"
   ]
  },
  {
   "cell_type": "markdown",
   "id": "da43c3a2",
   "metadata": {},
   "source": [
    "## Step 2: Merging\n",
    "\n",
    "Load up the data files you plan to use, and merge them together. Explain what you are doing at each step of the process. Do some checks with `.shape` to see that the merge works as expected. Depending on what you are working with, this will probably take around 5-10 lines of code, and 1-2 sentences explaining each step."
   ]
  },
  {
   "cell_type": "markdown",
   "id": "7bcc82dd",
   "metadata": {},
   "source": [
    "## Step 3: Analysis\n",
    "\n",
    "Perform you new analysis. Interpret any graphs or regression output. How do the results change compared to the original paper/lab? This will probably take about 10-15 lines of code, and again provide 1-2 sentences explaining why you are doing what you do and explaining the results."
   ]
  },
  {
   "cell_type": "markdown",
   "id": "2760b31c",
   "metadata": {},
   "source": [
    "## Step 4: Conclusion\n",
    "\n",
    "What did you learn form this exercise? How would you extend or modify your analysis if you had more time/data available?  (5-10 sentences)"
   ]
  },
  {
   "cell_type": "code",
   "execution_count": null,
   "id": "e6367cc5",
   "metadata": {},
   "outputs": [],
   "source": []
  }
 ],
 "metadata": {
  "kernelspec": {
   "display_name": "Python 3 (ipykernel)",
   "language": "python",
   "name": "python3"
  },
  "language_info": {
   "codemirror_mode": {
    "name": "ipython",
    "version": 3
   },
   "file_extension": ".py",
   "mimetype": "text/x-python",
   "name": "python",
   "nbconvert_exporter": "python",
   "pygments_lexer": "ipython3",
   "version": "3.9.7"
  }
 },
 "nbformat": 4,
 "nbformat_minor": 5
}
