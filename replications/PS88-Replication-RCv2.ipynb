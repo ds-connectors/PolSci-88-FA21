{
 "cells": [
  {
   "cell_type": "markdown",
   "id": "3d83088a",
   "metadata": {},
   "source": [
    "# PS88 Replication (Ritter and Conrad)\n",
    "\n",
    "A Challenge of working with the Ritter and Conrad paper is that there is tons of data: since they look at individual provinces and individual days, there are nearly 7 million observations. \n",
    "\n",
    "By default we can only have 1GB in memory in datahub, which is less than the full data file. So we will need to play some tricks. \n",
    "\n",
    "A lot of what we will do here is explore some ways to look at smaller slices and aggregations of the data, hopefully learning some things along the way."
   ]
  },
  {
   "cell_type": "code",
   "execution_count": 1,
   "id": "8d3eaf86",
   "metadata": {},
   "outputs": [],
   "source": [
    "import pandas as pd\n",
    "import seaborn as sns"
   ]
  },
  {
   "cell_type": "markdown",
   "id": "7754fec5",
   "metadata": {},
   "source": [
    "# Part 1 Exploration by year and country"
   ]
  },
  {
   "cell_type": "markdown",
   "id": "a009337c",
   "metadata": {},
   "source": [
    "First we will read in a dataframe that has all 6.8 million observations, but only contains the year the observation correspond to and the two main variables: the count of dissent events and the count of repression events.\n",
    "\n",
    "Note there are lots of obesrvations for each year, each corresponding to different regions/day, but I left that out so it doesn't overwhelm the memory of the notebook."
   ]
  },
  {
   "cell_type": "code",
   "execution_count": 2,
   "id": "48cb3942",
   "metadata": {},
   "outputs": [
    {
     "data": {
      "text/html": [
       "<div>\n",
       "<style scoped>\n",
       "    .dataframe tbody tr th:only-of-type {\n",
       "        vertical-align: middle;\n",
       "    }\n",
       "\n",
       "    .dataframe tbody tr th {\n",
       "        vertical-align: top;\n",
       "    }\n",
       "\n",
       "    .dataframe thead th {\n",
       "        text-align: right;\n",
       "    }\n",
       "</style>\n",
       "<table border=\"1\" class=\"dataframe\">\n",
       "  <thead>\n",
       "    <tr style=\"text-align: right;\">\n",
       "      <th></th>\n",
       "      <th>year</th>\n",
       "      <th>dissentcount</th>\n",
       "      <th>represscount</th>\n",
       "    </tr>\n",
       "  </thead>\n",
       "  <tbody>\n",
       "    <tr>\n",
       "      <th>0</th>\n",
       "      <td>1990</td>\n",
       "      <td>0</td>\n",
       "      <td>0</td>\n",
       "    </tr>\n",
       "    <tr>\n",
       "      <th>1</th>\n",
       "      <td>1990</td>\n",
       "      <td>0</td>\n",
       "      <td>0</td>\n",
       "    </tr>\n",
       "    <tr>\n",
       "      <th>2</th>\n",
       "      <td>1990</td>\n",
       "      <td>0</td>\n",
       "      <td>0</td>\n",
       "    </tr>\n",
       "    <tr>\n",
       "      <th>3</th>\n",
       "      <td>1990</td>\n",
       "      <td>0</td>\n",
       "      <td>0</td>\n",
       "    </tr>\n",
       "    <tr>\n",
       "      <th>4</th>\n",
       "      <td>1990</td>\n",
       "      <td>0</td>\n",
       "      <td>0</td>\n",
       "    </tr>\n",
       "    <tr>\n",
       "      <th>...</th>\n",
       "      <td>...</td>\n",
       "      <td>...</td>\n",
       "      <td>...</td>\n",
       "    </tr>\n",
       "    <tr>\n",
       "      <th>6809570</th>\n",
       "      <td>2012</td>\n",
       "      <td>0</td>\n",
       "      <td>0</td>\n",
       "    </tr>\n",
       "    <tr>\n",
       "      <th>6809571</th>\n",
       "      <td>2012</td>\n",
       "      <td>0</td>\n",
       "      <td>0</td>\n",
       "    </tr>\n",
       "    <tr>\n",
       "      <th>6809572</th>\n",
       "      <td>2012</td>\n",
       "      <td>0</td>\n",
       "      <td>0</td>\n",
       "    </tr>\n",
       "    <tr>\n",
       "      <th>6809573</th>\n",
       "      <td>2012</td>\n",
       "      <td>0</td>\n",
       "      <td>0</td>\n",
       "    </tr>\n",
       "    <tr>\n",
       "      <th>6809574</th>\n",
       "      <td>2012</td>\n",
       "      <td>0</td>\n",
       "      <td>0</td>\n",
       "    </tr>\n",
       "  </tbody>\n",
       "</table>\n",
       "<p>6809575 rows × 3 columns</p>\n",
       "</div>"
      ],
      "text/plain": [
       "         year  dissentcount  represscount\n",
       "0        1990             0             0\n",
       "1        1990             0             0\n",
       "2        1990             0             0\n",
       "3        1990             0             0\n",
       "4        1990             0             0\n",
       "...       ...           ...           ...\n",
       "6809570  2012             0             0\n",
       "6809571  2012             0             0\n",
       "6809572  2012             0             0\n",
       "6809573  2012             0             0\n",
       "6809574  2012             0             0\n",
       "\n",
       "[6809575 rows x 3 columns]"
      ]
     },
     "execution_count": 2,
     "metadata": {},
     "output_type": "execute_result"
    }
   ],
   "source": [
    "ydr = pd.read_csv(\"https://berkeley.box.com/shared/static/2lzex61lm8irfqfwyffqb8vgalo7uj2p.csv\")\n",
    "ydr"
   ]
  },
  {
   "cell_type": "markdown",
   "id": "8c13eacc",
   "metadata": {},
   "source": [
    "Let's use `value_counts()` to make a frequency table which tells us how often there is dissent in a region-day observation."
   ]
  },
  {
   "cell_type": "code",
   "execution_count": 6,
   "id": "cfa0285d",
   "metadata": {},
   "outputs": [
    {
     "data": {
      "text/plain": [
       "0    6792800\n",
       "1      13715\n",
       "2       2894\n",
       "3        138\n",
       "4         26\n",
       "5          2\n",
       "Name: dissentcount, dtype: int64"
      ]
     },
     "execution_count": 6,
     "metadata": {},
     "output_type": "execute_result"
    }
   ],
   "source": [
    "ydr['dissentcount'].value_counts()"
   ]
  },
  {
   "cell_type": "markdown",
   "id": "243d1dda",
   "metadata": {},
   "source": [
    "As we can see, in the vast majority of cases they do not detect any dissent in a given region/day. \n",
    "\n",
    "**Question 1.1. Use `value_counts` to make a frequency table of counts of repression in each region/day**"
   ]
  },
  {
   "cell_type": "code",
   "execution_count": null,
   "id": "f8c2c87b",
   "metadata": {},
   "outputs": [],
   "source": []
  },
  {
   "cell_type": "markdown",
   "id": "ce8dc13c",
   "metadata": {},
   "source": [
    "How often is there dissent and repression in a region/day? To see this bivariate relationship with out making a huge table, let's just check how often there is at least one event of each kind:"
   ]
  },
  {
   "cell_type": "code",
   "execution_count": 9,
   "id": "2fb51a4c",
   "metadata": {},
   "outputs": [
    {
     "data": {
      "text/html": [
       "<div>\n",
       "<style scoped>\n",
       "    .dataframe tbody tr th:only-of-type {\n",
       "        vertical-align: middle;\n",
       "    }\n",
       "\n",
       "    .dataframe tbody tr th {\n",
       "        vertical-align: top;\n",
       "    }\n",
       "\n",
       "    .dataframe thead th {\n",
       "        text-align: right;\n",
       "    }\n",
       "</style>\n",
       "<table border=\"1\" class=\"dataframe\">\n",
       "  <thead>\n",
       "    <tr style=\"text-align: right;\">\n",
       "      <th>represscount</th>\n",
       "      <th>False</th>\n",
       "      <th>True</th>\n",
       "    </tr>\n",
       "    <tr>\n",
       "      <th>dissentcount</th>\n",
       "      <th></th>\n",
       "      <th></th>\n",
       "    </tr>\n",
       "  </thead>\n",
       "  <tbody>\n",
       "    <tr>\n",
       "      <th>False</th>\n",
       "      <td>6781560</td>\n",
       "      <td>11240</td>\n",
       "    </tr>\n",
       "    <tr>\n",
       "      <th>True</th>\n",
       "      <td>12123</td>\n",
       "      <td>4652</td>\n",
       "    </tr>\n",
       "  </tbody>\n",
       "</table>\n",
       "</div>"
      ],
      "text/plain": [
       "represscount    False   True\n",
       "dissentcount                \n",
       "False         6781560  11240\n",
       "True            12123   4652"
      ]
     },
     "execution_count": 9,
     "metadata": {},
     "output_type": "execute_result"
    }
   ],
   "source": [
    "pd.crosstab(ydr['dissentcount']>0, ydr['represscount']>0)"
   ]
  },
  {
   "cell_type": "markdown",
   "id": "7f0523e7",
   "metadata": {},
   "source": [
    "Another way to see this is as a proportion of all observations:"
   ]
  },
  {
   "cell_type": "code",
   "execution_count": 10,
   "id": "3a24ae31",
   "metadata": {},
   "outputs": [
    {
     "data": {
      "text/html": [
       "<div>\n",
       "<style scoped>\n",
       "    .dataframe tbody tr th:only-of-type {\n",
       "        vertical-align: middle;\n",
       "    }\n",
       "\n",
       "    .dataframe tbody tr th {\n",
       "        vertical-align: top;\n",
       "    }\n",
       "\n",
       "    .dataframe thead th {\n",
       "        text-align: right;\n",
       "    }\n",
       "</style>\n",
       "<table border=\"1\" class=\"dataframe\">\n",
       "  <thead>\n",
       "    <tr style=\"text-align: right;\">\n",
       "      <th>represscount</th>\n",
       "      <th>False</th>\n",
       "      <th>True</th>\n",
       "    </tr>\n",
       "    <tr>\n",
       "      <th>dissentcount</th>\n",
       "      <th></th>\n",
       "      <th></th>\n",
       "    </tr>\n",
       "  </thead>\n",
       "  <tbody>\n",
       "    <tr>\n",
       "      <th>False</th>\n",
       "      <td>0.995886</td>\n",
       "      <td>0.001651</td>\n",
       "    </tr>\n",
       "    <tr>\n",
       "      <th>True</th>\n",
       "      <td>0.001780</td>\n",
       "      <td>0.000683</td>\n",
       "    </tr>\n",
       "  </tbody>\n",
       "</table>\n",
       "</div>"
      ],
      "text/plain": [
       "represscount     False      True\n",
       "dissentcount                    \n",
       "False         0.995886  0.001651\n",
       "True          0.001780  0.000683"
      ]
     },
     "execution_count": 10,
     "metadata": {},
     "output_type": "execute_result"
    }
   ],
   "source": [
    "pd.crosstab(ydr['dissentcount']>0, ydr['represscount']>0)/6809575"
   ]
  },
  {
   "cell_type": "markdown",
   "id": "32a0ee76",
   "metadata": {},
   "source": [
    "So, 99.6% of observations have no repression or dissent, and less than .01% have both."
   ]
  },
  {
   "cell_type": "markdown",
   "id": "af4d9df3",
   "metadata": {},
   "source": [
    "We can compute the average repressive events in a region/day using the `groupby` function. The syntax is a bit goofy. The line of code `df.groupby(groupvar, as_index=False)['summaryvar'].summarystat()` gives us the `summarystat` of `summaryvar` by `groupvar`. (The `as_index=False` puts the output as a dataframe, which will be useful for what we do next).\n",
    "\n",
    "For example, the following gives the mean of `represscount` by `year`."
   ]
  },
  {
   "cell_type": "code",
   "execution_count": 11,
   "id": "7d288f08",
   "metadata": {},
   "outputs": [
    {
     "data": {
      "text/html": [
       "<div>\n",
       "<style scoped>\n",
       "    .dataframe tbody tr th:only-of-type {\n",
       "        vertical-align: middle;\n",
       "    }\n",
       "\n",
       "    .dataframe tbody tr th {\n",
       "        vertical-align: top;\n",
       "    }\n",
       "\n",
       "    .dataframe thead th {\n",
       "        text-align: right;\n",
       "    }\n",
       "</style>\n",
       "<table border=\"1\" class=\"dataframe\">\n",
       "  <thead>\n",
       "    <tr style=\"text-align: right;\">\n",
       "      <th></th>\n",
       "      <th>year</th>\n",
       "      <th>represscount</th>\n",
       "    </tr>\n",
       "  </thead>\n",
       "  <tbody>\n",
       "    <tr>\n",
       "      <th>0</th>\n",
       "      <td>1990</td>\n",
       "      <td>0.001345</td>\n",
       "    </tr>\n",
       "    <tr>\n",
       "      <th>1</th>\n",
       "      <td>1991</td>\n",
       "      <td>0.002958</td>\n",
       "    </tr>\n",
       "    <tr>\n",
       "      <th>2</th>\n",
       "      <td>1992</td>\n",
       "      <td>0.004379</td>\n",
       "    </tr>\n",
       "    <tr>\n",
       "      <th>3</th>\n",
       "      <td>1993</td>\n",
       "      <td>0.003209</td>\n",
       "    </tr>\n",
       "    <tr>\n",
       "      <th>4</th>\n",
       "      <td>1994</td>\n",
       "      <td>0.003903</td>\n",
       "    </tr>\n",
       "    <tr>\n",
       "      <th>5</th>\n",
       "      <td>1995</td>\n",
       "      <td>0.002792</td>\n",
       "    </tr>\n",
       "    <tr>\n",
       "      <th>6</th>\n",
       "      <td>1996</td>\n",
       "      <td>0.004112</td>\n",
       "    </tr>\n",
       "    <tr>\n",
       "      <th>7</th>\n",
       "      <td>1997</td>\n",
       "      <td>0.004854</td>\n",
       "    </tr>\n",
       "    <tr>\n",
       "      <th>8</th>\n",
       "      <td>1998</td>\n",
       "      <td>0.003927</td>\n",
       "    </tr>\n",
       "    <tr>\n",
       "      <th>9</th>\n",
       "      <td>1999</td>\n",
       "      <td>0.003172</td>\n",
       "    </tr>\n",
       "    <tr>\n",
       "      <th>10</th>\n",
       "      <td>2000</td>\n",
       "      <td>0.002362</td>\n",
       "    </tr>\n",
       "    <tr>\n",
       "      <th>11</th>\n",
       "      <td>2001</td>\n",
       "      <td>0.004043</td>\n",
       "    </tr>\n",
       "    <tr>\n",
       "      <th>12</th>\n",
       "      <td>2002</td>\n",
       "      <td>0.004318</td>\n",
       "    </tr>\n",
       "    <tr>\n",
       "      <th>13</th>\n",
       "      <td>2003</td>\n",
       "      <td>0.001907</td>\n",
       "    </tr>\n",
       "    <tr>\n",
       "      <th>14</th>\n",
       "      <td>2004</td>\n",
       "      <td>0.001027</td>\n",
       "    </tr>\n",
       "    <tr>\n",
       "      <th>15</th>\n",
       "      <td>2005</td>\n",
       "      <td>0.001185</td>\n",
       "    </tr>\n",
       "    <tr>\n",
       "      <th>16</th>\n",
       "      <td>2006</td>\n",
       "      <td>0.000632</td>\n",
       "    </tr>\n",
       "    <tr>\n",
       "      <th>17</th>\n",
       "      <td>2007</td>\n",
       "      <td>0.001305</td>\n",
       "    </tr>\n",
       "    <tr>\n",
       "      <th>18</th>\n",
       "      <td>2008</td>\n",
       "      <td>0.001660</td>\n",
       "    </tr>\n",
       "    <tr>\n",
       "      <th>19</th>\n",
       "      <td>2009</td>\n",
       "      <td>0.001517</td>\n",
       "    </tr>\n",
       "    <tr>\n",
       "      <th>20</th>\n",
       "      <td>2010</td>\n",
       "      <td>0.000000</td>\n",
       "    </tr>\n",
       "    <tr>\n",
       "      <th>21</th>\n",
       "      <td>2011</td>\n",
       "      <td>0.000000</td>\n",
       "    </tr>\n",
       "    <tr>\n",
       "      <th>22</th>\n",
       "      <td>2012</td>\n",
       "      <td>0.000000</td>\n",
       "    </tr>\n",
       "  </tbody>\n",
       "</table>\n",
       "</div>"
      ],
      "text/plain": [
       "    year  represscount\n",
       "0   1990      0.001345\n",
       "1   1991      0.002958\n",
       "2   1992      0.004379\n",
       "3   1993      0.003209\n",
       "4   1994      0.003903\n",
       "5   1995      0.002792\n",
       "6   1996      0.004112\n",
       "7   1997      0.004854\n",
       "8   1998      0.003927\n",
       "9   1999      0.003172\n",
       "10  2000      0.002362\n",
       "11  2001      0.004043\n",
       "12  2002      0.004318\n",
       "13  2003      0.001907\n",
       "14  2004      0.001027\n",
       "15  2005      0.001185\n",
       "16  2006      0.000632\n",
       "17  2007      0.001305\n",
       "18  2008      0.001660\n",
       "19  2009      0.001517\n",
       "20  2010      0.000000\n",
       "21  2011      0.000000\n",
       "22  2012      0.000000"
      ]
     },
     "execution_count": 11,
     "metadata": {},
     "output_type": "execute_result"
    }
   ],
   "source": [
    "repressyr = ydr.groupby('year', as_index=False)['represscount'].mean()\n",
    "repressyr"
   ]
  },
  {
   "cell_type": "markdown",
   "id": "35c8dd21",
   "metadata": {},
   "source": [
    "One thing we can see here is that there is no data beyond 2009 though that paper says they have data from 1990-2012. (I'm pretty sure this isn't due to a mistake in merging on our part.) Not a huge deal though."
   ]
  },
  {
   "cell_type": "markdown",
   "id": "5c0f28d8",
   "metadata": {},
   "source": [
    "**Question 1.2 Create a dataframe called `dissentyr` which computes the average of `dissentcount` by year.**"
   ]
  },
  {
   "cell_type": "code",
   "execution_count": null,
   "id": "c528ea37",
   "metadata": {},
   "outputs": [],
   "source": []
  },
  {
   "cell_type": "markdown",
   "id": "866cf224",
   "metadata": {},
   "source": [
    "Now we can put these together in one data frame."
   ]
  },
  {
   "cell_type": "code",
   "execution_count": 13,
   "id": "b5e91108",
   "metadata": {},
   "outputs": [],
   "source": [
    "dissentyr['represscount'] = repressyr['represscount']"
   ]
  },
  {
   "cell_type": "markdown",
   "id": "2b4cac71",
   "metadata": {},
   "source": [
    "We can plot the trends of repression and dissent over time with `sns.lineplot`."
   ]
  },
  {
   "cell_type": "code",
   "execution_count": 14,
   "id": "02f7aa18",
   "metadata": {},
   "outputs": [
    {
     "data": {
      "text/plain": [
       "<AxesSubplot:xlabel='year', ylabel='dissentcount'>"
      ]
     },
     "execution_count": 14,
     "metadata": {},
     "output_type": "execute_result"
    },
    {
     "data": {
      "image/png": "[encoded data removed]",
      "text/plain": [
       "<Figure size 432x288 with 1 Axes>"
      ]
     },
     "metadata": {
      "needs_background": "light"
     },
     "output_type": "display_data"
    }
   ],
   "source": [
    "sns.lineplot(x=\"year\", y=\"dissentcount\", data=dissentyr)\n",
    "sns.lineplot(x=\"year\", y=\"represscount\", data=dissentyr)"
   ]
  },
  {
   "cell_type": "markdown",
   "id": "959375f7",
   "metadata": {},
   "source": [
    "It looks like these tend to go up and down together. "
   ]
  },
  {
   "cell_type": "markdown",
   "id": "8254e1be",
   "metadata": {},
   "source": [
    "**Question 1.3. Use `sns.scatterplot` to make a graph with yearly average dissent on the x axis and yearly average repression on the y axis.**"
   ]
  },
  {
   "cell_type": "code",
   "execution_count": null,
   "id": "62981186",
   "metadata": {},
   "outputs": [],
   "source": []
  },
  {
   "cell_type": "markdown",
   "id": "3b0e64f4",
   "metadata": {},
   "source": [
    "At least in aggregate, there is a strong relationship between these variables."
   ]
  },
  {
   "cell_type": "markdown",
   "id": "87e09751",
   "metadata": {},
   "source": [
    "To limit how much memory we are using, we can use the %reset command to delete everything stored in memory. This will give you a warning message, type y."
   ]
  },
  {
   "cell_type": "code",
   "execution_count": null,
   "id": "9f70798c",
   "metadata": {},
   "outputs": [],
   "source": []
  },
  {
   "cell_type": "markdown",
   "id": "e0e3f9d6",
   "metadata": {},
   "source": [
    "After doing this we need to reload the libraries we are using"
   ]
  },
  {
   "cell_type": "code",
   "execution_count": 17,
   "id": "6d21cbea",
   "metadata": {},
   "outputs": [],
   "source": [
    "import pandas as pd\n",
    "import seaborn as sns"
   ]
  },
  {
   "cell_type": "markdown",
   "id": "c95b0204",
   "metadata": {},
   "source": [
    "Now let's load in a dataframe that includes the country variable (called `adm0_name`) and our key variables."
   ]
  },
  {
   "cell_type": "code",
   "execution_count": 18,
   "id": "4bb7b2b7",
   "metadata": {},
   "outputs": [
    {
     "data": {
      "text/html": [
       "<div>\n",
       "<style scoped>\n",
       "    .dataframe tbody tr th:only-of-type {\n",
       "        vertical-align: middle;\n",
       "    }\n",
       "\n",
       "    .dataframe tbody tr th {\n",
       "        vertical-align: top;\n",
       "    }\n",
       "\n",
       "    .dataframe thead th {\n",
       "        text-align: right;\n",
       "    }\n",
       "</style>\n",
       "<table border=\"1\" class=\"dataframe\">\n",
       "  <thead>\n",
       "    <tr style=\"text-align: right;\">\n",
       "      <th></th>\n",
       "      <th>adm0_name</th>\n",
       "      <th>dissentcount</th>\n",
       "      <th>represscount</th>\n",
       "    </tr>\n",
       "  </thead>\n",
       "  <tbody>\n",
       "    <tr>\n",
       "      <th>0</th>\n",
       "      <td>Algeria</td>\n",
       "      <td>0</td>\n",
       "      <td>0</td>\n",
       "    </tr>\n",
       "    <tr>\n",
       "      <th>1</th>\n",
       "      <td>Algeria</td>\n",
       "      <td>0</td>\n",
       "      <td>0</td>\n",
       "    </tr>\n",
       "    <tr>\n",
       "      <th>2</th>\n",
       "      <td>Algeria</td>\n",
       "      <td>0</td>\n",
       "      <td>0</td>\n",
       "    </tr>\n",
       "    <tr>\n",
       "      <th>3</th>\n",
       "      <td>Algeria</td>\n",
       "      <td>0</td>\n",
       "      <td>0</td>\n",
       "    </tr>\n",
       "    <tr>\n",
       "      <th>4</th>\n",
       "      <td>Algeria</td>\n",
       "      <td>0</td>\n",
       "      <td>0</td>\n",
       "    </tr>\n",
       "    <tr>\n",
       "      <th>...</th>\n",
       "      <td>...</td>\n",
       "      <td>...</td>\n",
       "      <td>...</td>\n",
       "    </tr>\n",
       "    <tr>\n",
       "      <th>6809570</th>\n",
       "      <td>Ilemi triangle</td>\n",
       "      <td>0</td>\n",
       "      <td>0</td>\n",
       "    </tr>\n",
       "    <tr>\n",
       "      <th>6809571</th>\n",
       "      <td>Ilemi triangle</td>\n",
       "      <td>0</td>\n",
       "      <td>0</td>\n",
       "    </tr>\n",
       "    <tr>\n",
       "      <th>6809572</th>\n",
       "      <td>Ilemi triangle</td>\n",
       "      <td>0</td>\n",
       "      <td>0</td>\n",
       "    </tr>\n",
       "    <tr>\n",
       "      <th>6809573</th>\n",
       "      <td>Ilemi triangle</td>\n",
       "      <td>0</td>\n",
       "      <td>0</td>\n",
       "    </tr>\n",
       "    <tr>\n",
       "      <th>6809574</th>\n",
       "      <td>Ilemi triangle</td>\n",
       "      <td>0</td>\n",
       "      <td>0</td>\n",
       "    </tr>\n",
       "  </tbody>\n",
       "</table>\n",
       "<p>6809575 rows × 3 columns</p>\n",
       "</div>"
      ],
      "text/plain": [
       "              adm0_name  dissentcount  represscount\n",
       "0               Algeria             0             0\n",
       "1               Algeria             0             0\n",
       "2               Algeria             0             0\n",
       "3               Algeria             0             0\n",
       "4               Algeria             0             0\n",
       "...                 ...           ...           ...\n",
       "6809570  Ilemi triangle             0             0\n",
       "6809571  Ilemi triangle             0             0\n",
       "6809572  Ilemi triangle             0             0\n",
       "6809573  Ilemi triangle             0             0\n",
       "6809574  Ilemi triangle             0             0\n",
       "\n",
       "[6809575 rows x 3 columns]"
      ]
     },
     "execution_count": 18,
     "metadata": {},
     "output_type": "execute_result"
    }
   ],
   "source": [
    "cdr = pd.read_csv(\"https://berkeley.box.com/shared/static/gebfvyi6zxghj766hj72aeu5tdk7q291.csv\")\n",
    "cdr"
   ]
  },
  {
   "cell_type": "markdown",
   "id": "408e4789",
   "metadata": {},
   "source": [
    "**Question 1.4 Use the `groupby` function to compute the average levels of repression and dissent by country, and then put these together in a single data frame.**"
   ]
  },
  {
   "cell_type": "code",
   "execution_count": null,
   "id": "66fdbc0c",
   "metadata": {},
   "outputs": [],
   "source": []
  },
  {
   "cell_type": "markdown",
   "id": "faa92186",
   "metadata": {},
   "source": [
    "**Question 1.5. Use `sns.regplot` to make a scatter plot with average dissent by country on the x axis and average repression by country on the y axis, with a best fit line. Describe what you find.**"
   ]
  },
  {
   "cell_type": "code",
   "execution_count": null,
   "id": "e2057650",
   "metadata": {},
   "outputs": [],
   "source": []
  },
  {
   "cell_type": "code",
   "execution_count": null,
   "id": "049733d7",
   "metadata": {},
   "outputs": [],
   "source": []
  },
  {
   "cell_type": "markdown",
   "id": "7c5f197b",
   "metadata": {},
   "source": [
    "## Part 2: Replication(ish)\n",
    "\n",
    "Now let's move on to replicating the main table. Unfortunately there are too many observations to do this easily on datahub.\n",
    "\n",
    "A natural way to deal with this, particularly with a large data set, would be to take a random sample of all observations. With 6.8 million observations, even a 1% sample would leve us with 68,000 or so observations, which is a lot!\n",
    "\n",
    "However, recall the first thing we did with the full dataset was count how many instances there were with `dissentcount > 0` and `represscount > 0`. There were only about 4600 cases with repression and dissent, and so with a 1% sample we will be down to about 46 cases of both. It will be hard to make strong inferences here, (particularly since, as we will see, the relationship between rainfall and dissent is not very strong).\n",
    "\n",
    "Another alternative, which isn't perfect, is to keep all cases of some dissent, and then a random sample of the cases with no repression. As we will see, this will lead to pretty similar results to what the paper has.\n",
    "\n",
    "The data set we load up after our libraries contains all the cases with dissent, and 100,000 randomly chosen ones with no dissent. This gets the data frame down to a very manageable size"
   ]
  },
  {
   "cell_type": "code",
   "execution_count": 1,
   "id": "7d9047f9",
   "metadata": {},
   "outputs": [],
   "source": [
    "import pandas as pd\n",
    "import seaborn as sns\n",
    "from linearmodels.iv import IV2SLS\n",
    "import statsmodels.formula.api as smf "
   ]
  },
  {
   "cell_type": "code",
   "execution_count": 2,
   "id": "241f841a",
   "metadata": {},
   "outputs": [],
   "source": [
    "rc_samp = pd.read_csv(\"rc_samp0.csv\")"
   ]
  },
  {
   "cell_type": "markdown",
   "id": "337dc2e6",
   "metadata": {},
   "source": [
    "Since we are working with a sample, the results won't exactly match the paper. Here is a version of columns 1-4 of table 1 from the paper on this sample. Like in the paper, each cell gives the coefficient on the variable in question, and the standard error in parenthesis. The key thing that you'll want to check matches are the coefficients on the different variables. "
   ]
  },
  {
   "cell_type": "markdown",
   "id": "a9607ddc",
   "metadata": {},
   "source": [
    "|                   | OLS (no instrument)                               | IV Regression  | IV (Autocracies) | IV (Democracies) |\n",
    "| ----------------- | ------------------------------------------------- | -------------- | ---------------- | ---------------- |\n",
    "|                   | *Second Stage: The Effect of Dissent on Repression* |\n",
    "| Mobilized Dissent | 0.2336 (.001)                                      | \\-0.0708 (.071) | .0086 (.041)      | .2473 (.033)      |\n",
    "| Urbanization      | 0.0324 (.010)                                      | \\-0.0738 (.027) | \\-.0315 (.019)    | \\-.0062 (.015)    |\n",
    "| Constant          | 0.0012 (.001)                                     | 0.059 (.014)   | .0472 (.211)      | \\-.0092 (.006)    |\n",
    "|                   | *First Stage: Instrumenting Mobilized Dissent*      |\n",
    "| Rainfall (ln)     |                                                   | \\-0.0083 (.001) | \\-.0176 (.001)    | .0248 (.003)      |\n",
    "| Annual Rainfall   |                                                   | 1.3367 (.208)   | 1.7708 (.230)     | \\-.9161 (.503)    |\n",
    "| Urbanization      |                                                   | \\-.3551 (.028)  | \\-.4000 (.034)    | \\-.2628 (.044     |\n",
    "| Constant          |                                                   | .1876 (.002)    | .1937 (.002)      | .1687 (.003)      |\n",
    "|                   |                                                   |                |                  |                  |\n",
    "| N                 | 107009                                            | 105438         | 83814            | 21502            |"
   ]
  },
  {
   "cell_type": "markdown",
   "id": "56fd3beb",
   "metadata": {},
   "source": [
    "**Question 2.1. Replicate column 1 of this table, by using `smf.ols` to run a regression with the count of repressive events (`represscount`) as the dependent variable, and the count of dissent events (`dissentcount`) and urbanization (`urban_mean`) as independent variables.**"
   ]
  },
  {
   "cell_type": "code",
   "execution_count": null,
   "id": "df4290e1",
   "metadata": {},
   "outputs": [],
   "source": []
  },
  {
   "cell_type": "markdown",
   "id": "1e38a4b8",
   "metadata": {},
   "source": [
    "Now let's move on to the instrumental variables regression in column 2. We'll work our way up, first computing the first stage.\n",
    "\n",
    "**Question 2.2. Replicate the first stage of the regression in column 2, by using `smf.ols` to run a regression with the count of dissent events as the dependent variable, and the natural log of rainfall (`lograin`), the amount of rain as a percent of annual rainfall (`rainannualpct`), and urbanization as independent variables.**"
   ]
  },
  {
   "cell_type": "code",
   "execution_count": null,
   "id": "fa82ea3d",
   "metadata": {},
   "outputs": [],
   "source": []
  },
  {
   "cell_type": "markdown",
   "id": "e0c592d6",
   "metadata": {},
   "source": [
    "**Question 2.3. Now replicate the second stage with `IV2SLS.from_formula`. Recall the general syntax here is `IV2SLS.from_formula(\"DV ~ 1 + CONTROLS + [IV ~ INSTRUMENTS]\", data=df\").fit().summary` where `DV` is the dependent variable, `CONTROLS` are the control variables that go in both the first and second stage, `IV` is the key independent variable, and `INSTRUMENTS` are the instruments. As a hint, there is one variable to use for `CONTROLS` and two variables to use for `INSTRUMENTS`, so enter those as `INSTRUMENT1 + INSTRUMENT2`. You might get some red \"warnings\" about missing data, which you can ignore.** "
   ]
  },
  {
   "cell_type": "code",
   "execution_count": null,
   "id": "72f1d46e",
   "metadata": {},
   "outputs": [],
   "source": []
  },
  {
   "cell_type": "markdown",
   "id": "4aba066d",
   "metadata": {},
   "source": [
    "**Question 2.4 [OPTIONAL]. Now replicate columns 3 and 4 by running the same first and second stage regressions, but with a sample of observations where the democracy variable is less than 0  (`latent_democracy < 0`) and then greater than 0 (`latent_democracy > 0`)**"
   ]
  },
  {
   "cell_type": "code",
   "execution_count": null,
   "id": "2bb556c9",
   "metadata": {},
   "outputs": [],
   "source": []
  },
  {
   "cell_type": "code",
   "execution_count": null,
   "id": "9d7d1338",
   "metadata": {},
   "outputs": [],
   "source": []
  },
  {
   "cell_type": "code",
   "execution_count": null,
   "id": "d4f95033",
   "metadata": {},
   "outputs": [],
   "source": []
  },
  {
   "cell_type": "code",
   "execution_count": null,
   "id": "20dd1975",
   "metadata": {},
   "outputs": [],
   "source": []
  },
  {
   "cell_type": "markdown",
   "id": "a1a3f9ef",
   "metadata": {},
   "source": [
    "## Part 3: In the year 2000\n",
    "\n",
    "Another way to cut back on the size of the data file, which also can provide some different insights, is to restrict attention to a smaller time window. Here are the relevant variables for our replication just for the year 2000. This alone gets us over 300,000 observations."
   ]
  },
  {
   "cell_type": "code",
   "execution_count": 8,
   "id": "a0972e2d",
   "metadata": {},
   "outputs": [
    {
     "data": {
      "text/html": [
       "<div>\n",
       "<style scoped>\n",
       "    .dataframe tbody tr th:only-of-type {\n",
       "        vertical-align: middle;\n",
       "    }\n",
       "\n",
       "    .dataframe tbody tr th {\n",
       "        vertical-align: top;\n",
       "    }\n",
       "\n",
       "    .dataframe thead th {\n",
       "        text-align: right;\n",
       "    }\n",
       "</style>\n",
       "<table border=\"1\" class=\"dataframe\">\n",
       "  <thead>\n",
       "    <tr style=\"text-align: right;\">\n",
       "      <th></th>\n",
       "      <th>adm0_name</th>\n",
       "      <th>date</th>\n",
       "      <th>urban_mean</th>\n",
       "      <th>rainannualpct</th>\n",
       "      <th>latent_democracy</th>\n",
       "      <th>dissentcount</th>\n",
       "      <th>represscount</th>\n",
       "      <th>lograin</th>\n",
       "    </tr>\n",
       "  </thead>\n",
       "  <tbody>\n",
       "    <tr>\n",
       "      <th>0</th>\n",
       "      <td>Algeria</td>\n",
       "      <td>2000-01-01</td>\n",
       "      <td>0.0</td>\n",
       "      <td>0.001779</td>\n",
       "      <td>-0.184923</td>\n",
       "      <td>0.0</td>\n",
       "      <td>0.0</td>\n",
       "      <td>-2.000409</td>\n",
       "    </tr>\n",
       "    <tr>\n",
       "      <th>1</th>\n",
       "      <td>Algeria</td>\n",
       "      <td>2000-01-02</td>\n",
       "      <td>0.0</td>\n",
       "      <td>0.006390</td>\n",
       "      <td>-0.184923</td>\n",
       "      <td>0.0</td>\n",
       "      <td>0.0</td>\n",
       "      <td>-0.721835</td>\n",
       "    </tr>\n",
       "    <tr>\n",
       "      <th>2</th>\n",
       "      <td>Algeria</td>\n",
       "      <td>2000-01-03</td>\n",
       "      <td>0.0</td>\n",
       "      <td>0.000000</td>\n",
       "      <td>-0.184923</td>\n",
       "      <td>0.0</td>\n",
       "      <td>0.0</td>\n",
       "      <td>0.000000</td>\n",
       "    </tr>\n",
       "    <tr>\n",
       "      <th>3</th>\n",
       "      <td>Algeria</td>\n",
       "      <td>2000-01-04</td>\n",
       "      <td>0.0</td>\n",
       "      <td>0.000756</td>\n",
       "      <td>-0.184923</td>\n",
       "      <td>0.0</td>\n",
       "      <td>0.0</td>\n",
       "      <td>-2.856666</td>\n",
       "    </tr>\n",
       "    <tr>\n",
       "      <th>4</th>\n",
       "      <td>Algeria</td>\n",
       "      <td>2000-01-05</td>\n",
       "      <td>0.0</td>\n",
       "      <td>0.000000</td>\n",
       "      <td>-0.184923</td>\n",
       "      <td>0.0</td>\n",
       "      <td>0.0</td>\n",
       "      <td>0.000000</td>\n",
       "    </tr>\n",
       "    <tr>\n",
       "      <th>...</th>\n",
       "      <td>...</td>\n",
       "      <td>...</td>\n",
       "      <td>...</td>\n",
       "      <td>...</td>\n",
       "      <td>...</td>\n",
       "      <td>...</td>\n",
       "      <td>...</td>\n",
       "      <td>...</td>\n",
       "    </tr>\n",
       "    <tr>\n",
       "      <th>305756</th>\n",
       "      <td>NaN</td>\n",
       "      <td>NaN</td>\n",
       "      <td>NaN</td>\n",
       "      <td>NaN</td>\n",
       "      <td>1.992063</td>\n",
       "      <td>NaN</td>\n",
       "      <td>NaN</td>\n",
       "      <td>NaN</td>\n",
       "    </tr>\n",
       "    <tr>\n",
       "      <th>305757</th>\n",
       "      <td>NaN</td>\n",
       "      <td>NaN</td>\n",
       "      <td>NaN</td>\n",
       "      <td>NaN</td>\n",
       "      <td>1.993914</td>\n",
       "      <td>NaN</td>\n",
       "      <td>NaN</td>\n",
       "      <td>NaN</td>\n",
       "    </tr>\n",
       "    <tr>\n",
       "      <th>305758</th>\n",
       "      <td>NaN</td>\n",
       "      <td>NaN</td>\n",
       "      <td>NaN</td>\n",
       "      <td>NaN</td>\n",
       "      <td>0.701200</td>\n",
       "      <td>NaN</td>\n",
       "      <td>NaN</td>\n",
       "      <td>NaN</td>\n",
       "    </tr>\n",
       "    <tr>\n",
       "      <th>305759</th>\n",
       "      <td>NaN</td>\n",
       "      <td>NaN</td>\n",
       "      <td>NaN</td>\n",
       "      <td>NaN</td>\n",
       "      <td>0.906322</td>\n",
       "      <td>NaN</td>\n",
       "      <td>NaN</td>\n",
       "      <td>NaN</td>\n",
       "    </tr>\n",
       "    <tr>\n",
       "      <th>305760</th>\n",
       "      <td>NaN</td>\n",
       "      <td>NaN</td>\n",
       "      <td>NaN</td>\n",
       "      <td>NaN</td>\n",
       "      <td>NaN</td>\n",
       "      <td>NaN</td>\n",
       "      <td>NaN</td>\n",
       "      <td>NaN</td>\n",
       "    </tr>\n",
       "  </tbody>\n",
       "</table>\n",
       "<p>305761 rows × 8 columns</p>\n",
       "</div>"
      ],
      "text/plain": [
       "       adm0_name        date  urban_mean  rainannualpct  latent_democracy  \\\n",
       "0        Algeria  2000-01-01         0.0       0.001779         -0.184923   \n",
       "1        Algeria  2000-01-02         0.0       0.006390         -0.184923   \n",
       "2        Algeria  2000-01-03         0.0       0.000000         -0.184923   \n",
       "3        Algeria  2000-01-04         0.0       0.000756         -0.184923   \n",
       "4        Algeria  2000-01-05         0.0       0.000000         -0.184923   \n",
       "...          ...         ...         ...            ...               ...   \n",
       "305756       NaN         NaN         NaN            NaN          1.992063   \n",
       "305757       NaN         NaN         NaN            NaN          1.993914   \n",
       "305758       NaN         NaN         NaN            NaN          0.701200   \n",
       "305759       NaN         NaN         NaN            NaN          0.906322   \n",
       "305760       NaN         NaN         NaN            NaN               NaN   \n",
       "\n",
       "        dissentcount  represscount   lograin  \n",
       "0                0.0           0.0 -2.000409  \n",
       "1                0.0           0.0 -0.721835  \n",
       "2                0.0           0.0  0.000000  \n",
       "3                0.0           0.0 -2.856666  \n",
       "4                0.0           0.0  0.000000  \n",
       "...              ...           ...       ...  \n",
       "305756           NaN           NaN       NaN  \n",
       "305757           NaN           NaN       NaN  \n",
       "305758           NaN           NaN       NaN  \n",
       "305759           NaN           NaN       NaN  \n",
       "305760           NaN           NaN       NaN  \n",
       "\n",
       "[305761 rows x 8 columns]"
      ]
     },
     "execution_count": 8,
     "metadata": {},
     "output_type": "execute_result"
    }
   ],
   "source": [
    "rc2k = pd.read_csv(\"https://berkeley.box.com/shared/static/2mta14zoopm547uqr3ear2pvokfwzeaz.csv\")\n",
    "rc2k"
   ]
  },
  {
   "cell_type": "markdown",
   "id": "18391b0c",
   "metadata": {},
   "source": [
    "**Question 3.1. Run the same \"column 1\" regression that you did in 2.1, but with the year 2000 data. (Note: you can peek below for a table which contains the results of such regressions for 1990-2009 to check that you are getting the right coefficient on `dissentcount`.)**"
   ]
  },
  {
   "cell_type": "code",
   "execution_count": null,
   "id": "f16d5528",
   "metadata": {},
   "outputs": [],
   "source": []
  },
  {
   "cell_type": "markdown",
   "id": "0196d3df",
   "metadata": {},
   "source": [
    "**Question 3.2. Now use `smf.ols` to run the first stage of the column 2 regression.**"
   ]
  },
  {
   "cell_type": "code",
   "execution_count": null,
   "id": "1b6a6dcf",
   "metadata": {},
   "outputs": [],
   "source": []
  },
  {
   "cell_type": "markdown",
   "id": "96d2f197",
   "metadata": {},
   "source": [
    "Note the coefficients are much closer to zero than they were on the sample we used in part 2 (though not far from the coefficients in the full sample reported in the paper). To get a sense of the magnitude here and see the relationship between our two instruments, let's look at a scatterplot of `lograin` and `rainannualpct`."
   ]
  },
  {
   "cell_type": "code",
   "execution_count": 19,
   "id": "35ccfde8",
   "metadata": {},
   "outputs": [
    {
     "data": {
      "text/plain": [
       "<AxesSubplot:xlabel='lograin', ylabel='rainannualpct'>"
      ]
     },
     "execution_count": 19,
     "metadata": {},
     "output_type": "execute_result"
    },
    {
     "data": {
      "image/png": "[encoded data removed]",
      "text/plain": [
       "<Figure size 432x288 with 1 Axes>"
      ]
     },
     "metadata": {
      "needs_background": "light"
     },
     "output_type": "display_data"
    }
   ],
   "source": [
    "sns.scatterplot(x='lograin', y='rainannualpct', data=rc2k)"
   ]
  },
  {
   "cell_type": "markdown",
   "id": "45f4db5e",
   "metadata": {},
   "source": [
    "The range of range of `rainannualpct` is about 0 to .5 (it's rare to get half of the rain received in a year in one day!). Your coefficient on this should be about .025, so going from the least to most rain by this measure only leads to a predicted increase of .01 dissent events, which is pretty tiny. The prediction using `lograin` is about the same. Again there are no absolute rules here, but this likely violates the \"strong first stage\" requirement for doing IV. Still, we can do it and see what happens. \n",
    "\n",
    "**Question 3.3. Use `IV2SLS.from_formula` to run the \"column 2\" instrumental variables regression. (Again, you can peek at the table introduced below to check that you get the right coefficient on `dissentcount`.)**"
   ]
  },
  {
   "cell_type": "code",
   "execution_count": null,
   "id": "855becc8",
   "metadata": {},
   "outputs": [],
   "source": []
  },
  {
   "cell_type": "markdown",
   "id": "b63c1d74",
   "metadata": {},
   "source": [
    "Of course, picking out the year 2000 is a bit arbitrary. Using the wonders of loops, I ran all the OLS and instrument variables regressions for each of the year 1990 and 2009 and stored the coefficient on `dissentcount` in a table we'll import here:"
   ]
  },
  {
   "cell_type": "code",
   "execution_count": 21,
   "id": "899b0730",
   "metadata": {},
   "outputs": [],
   "source": [
    "yearsum = pd.read_csv(\"https://berkeley.box.com/shared/static/67025yl413c7v52wz8ke1mlkkjl2o44z.csv\")"
   ]
  },
  {
   "cell_type": "code",
   "execution_count": 22,
   "id": "41c2928b",
   "metadata": {},
   "outputs": [
    {
     "data": {
      "text/html": [
       "<div>\n",
       "<style scoped>\n",
       "    .dataframe tbody tr th:only-of-type {\n",
       "        vertical-align: middle;\n",
       "    }\n",
       "\n",
       "    .dataframe tbody tr th {\n",
       "        vertical-align: top;\n",
       "    }\n",
       "\n",
       "    .dataframe thead th {\n",
       "        text-align: right;\n",
       "    }\n",
       "</style>\n",
       "<table border=\"1\" class=\"dataframe\">\n",
       "  <thead>\n",
       "    <tr style=\"text-align: right;\">\n",
       "      <th></th>\n",
       "      <th>year</th>\n",
       "      <th>ols</th>\n",
       "      <th>iv2</th>\n",
       "      <th>iv3a</th>\n",
       "      <th>iv3b</th>\n",
       "    </tr>\n",
       "  </thead>\n",
       "  <tbody>\n",
       "    <tr>\n",
       "      <th>0</th>\n",
       "      <td>1990</td>\n",
       "      <td>0.233365</td>\n",
       "      <td>0.871695</td>\n",
       "      <td>0.865586</td>\n",
       "      <td>0.500000</td>\n",
       "    </tr>\n",
       "    <tr>\n",
       "      <th>1</th>\n",
       "      <td>1991</td>\n",
       "      <td>0.308271</td>\n",
       "      <td>1.663010</td>\n",
       "      <td>1.565629</td>\n",
       "      <td>-0.001998</td>\n",
       "    </tr>\n",
       "    <tr>\n",
       "      <th>2</th>\n",
       "      <td>1992</td>\n",
       "      <td>0.187126</td>\n",
       "      <td>-1.565713</td>\n",
       "      <td>-1.441325</td>\n",
       "      <td>1.727623</td>\n",
       "    </tr>\n",
       "    <tr>\n",
       "      <th>3</th>\n",
       "      <td>1993</td>\n",
       "      <td>0.242019</td>\n",
       "      <td>-3.093142</td>\n",
       "      <td>-3.224883</td>\n",
       "      <td>-0.202748</td>\n",
       "    </tr>\n",
       "    <tr>\n",
       "      <th>4</th>\n",
       "      <td>1994</td>\n",
       "      <td>0.181689</td>\n",
       "      <td>0.506063</td>\n",
       "      <td>-0.459237</td>\n",
       "      <td>0.007059</td>\n",
       "    </tr>\n",
       "    <tr>\n",
       "      <th>5</th>\n",
       "      <td>1995</td>\n",
       "      <td>0.109637</td>\n",
       "      <td>0.040765</td>\n",
       "      <td>0.092316</td>\n",
       "      <td>0.006474</td>\n",
       "    </tr>\n",
       "    <tr>\n",
       "      <th>6</th>\n",
       "      <td>1996</td>\n",
       "      <td>0.092666</td>\n",
       "      <td>-0.125166</td>\n",
       "      <td>-0.102326</td>\n",
       "      <td>0.069215</td>\n",
       "    </tr>\n",
       "    <tr>\n",
       "      <th>7</th>\n",
       "      <td>1997</td>\n",
       "      <td>0.274846</td>\n",
       "      <td>-0.510579</td>\n",
       "      <td>-0.593200</td>\n",
       "      <td>-0.255912</td>\n",
       "    </tr>\n",
       "    <tr>\n",
       "      <th>8</th>\n",
       "      <td>1998</td>\n",
       "      <td>0.276135</td>\n",
       "      <td>-0.264156</td>\n",
       "      <td>-0.129264</td>\n",
       "      <td>0.294247</td>\n",
       "    </tr>\n",
       "    <tr>\n",
       "      <th>9</th>\n",
       "      <td>1999</td>\n",
       "      <td>0.085099</td>\n",
       "      <td>0.500007</td>\n",
       "      <td>0.641422</td>\n",
       "      <td>-3.224808</td>\n",
       "    </tr>\n",
       "    <tr>\n",
       "      <th>10</th>\n",
       "      <td>2000</td>\n",
       "      <td>0.153695</td>\n",
       "      <td>-1.149447</td>\n",
       "      <td>-1.319228</td>\n",
       "      <td>0.082159</td>\n",
       "    </tr>\n",
       "    <tr>\n",
       "      <th>11</th>\n",
       "      <td>2001</td>\n",
       "      <td>0.286715</td>\n",
       "      <td>0.675887</td>\n",
       "      <td>0.745462</td>\n",
       "      <td>0.417746</td>\n",
       "    </tr>\n",
       "    <tr>\n",
       "      <th>12</th>\n",
       "      <td>2002</td>\n",
       "      <td>0.241892</td>\n",
       "      <td>0.661359</td>\n",
       "      <td>0.737160</td>\n",
       "      <td>0.848297</td>\n",
       "    </tr>\n",
       "    <tr>\n",
       "      <th>13</th>\n",
       "      <td>2003</td>\n",
       "      <td>0.265021</td>\n",
       "      <td>0.190330</td>\n",
       "      <td>-0.124322</td>\n",
       "      <td>-0.276990</td>\n",
       "    </tr>\n",
       "    <tr>\n",
       "      <th>14</th>\n",
       "      <td>2004</td>\n",
       "      <td>0.278103</td>\n",
       "      <td>-0.081461</td>\n",
       "      <td>-0.300913</td>\n",
       "      <td>0.067176</td>\n",
       "    </tr>\n",
       "    <tr>\n",
       "      <th>15</th>\n",
       "      <td>2005</td>\n",
       "      <td>0.360355</td>\n",
       "      <td>0.166500</td>\n",
       "      <td>0.972001</td>\n",
       "      <td>0.073499</td>\n",
       "    </tr>\n",
       "    <tr>\n",
       "      <th>16</th>\n",
       "      <td>2006</td>\n",
       "      <td>0.201909</td>\n",
       "      <td>-0.206077</td>\n",
       "      <td>0.325576</td>\n",
       "      <td>-0.661578</td>\n",
       "    </tr>\n",
       "    <tr>\n",
       "      <th>17</th>\n",
       "      <td>2007</td>\n",
       "      <td>0.275961</td>\n",
       "      <td>0.056373</td>\n",
       "      <td>0.137024</td>\n",
       "      <td>1.409843</td>\n",
       "    </tr>\n",
       "    <tr>\n",
       "      <th>18</th>\n",
       "      <td>2008</td>\n",
       "      <td>0.415301</td>\n",
       "      <td>0.437174</td>\n",
       "      <td>-2.009821</td>\n",
       "      <td>0.532288</td>\n",
       "    </tr>\n",
       "    <tr>\n",
       "      <th>19</th>\n",
       "      <td>2009</td>\n",
       "      <td>0.263402</td>\n",
       "      <td>0.350162</td>\n",
       "      <td>0.175148</td>\n",
       "      <td>0.376477</td>\n",
       "    </tr>\n",
       "  </tbody>\n",
       "</table>\n",
       "</div>"
      ],
      "text/plain": [
       "    year       ols       iv2      iv3a      iv3b\n",
       "0   1990  0.233365  0.871695  0.865586  0.500000\n",
       "1   1991  0.308271  1.663010  1.565629 -0.001998\n",
       "2   1992  0.187126 -1.565713 -1.441325  1.727623\n",
       "3   1993  0.242019 -3.093142 -3.224883 -0.202748\n",
       "4   1994  0.181689  0.506063 -0.459237  0.007059\n",
       "5   1995  0.109637  0.040765  0.092316  0.006474\n",
       "6   1996  0.092666 -0.125166 -0.102326  0.069215\n",
       "7   1997  0.274846 -0.510579 -0.593200 -0.255912\n",
       "8   1998  0.276135 -0.264156 -0.129264  0.294247\n",
       "9   1999  0.085099  0.500007  0.641422 -3.224808\n",
       "10  2000  0.153695 -1.149447 -1.319228  0.082159\n",
       "11  2001  0.286715  0.675887  0.745462  0.417746\n",
       "12  2002  0.241892  0.661359  0.737160  0.848297\n",
       "13  2003  0.265021  0.190330 -0.124322 -0.276990\n",
       "14  2004  0.278103 -0.081461 -0.300913  0.067176\n",
       "15  2005  0.360355  0.166500  0.972001  0.073499\n",
       "16  2006  0.201909 -0.206077  0.325576 -0.661578\n",
       "17  2007  0.275961  0.056373  0.137024  1.409843\n",
       "18  2008  0.415301  0.437174 -2.009821  0.532288\n",
       "19  2009  0.263402  0.350162  0.175148  0.376477"
      ]
     },
     "execution_count": 22,
     "metadata": {},
     "output_type": "execute_result"
    }
   ],
   "source": [
    "yearsum"
   ]
  },
  {
   "cell_type": "markdown",
   "id": "a4f3e6d7",
   "metadata": {},
   "source": [
    "**Question 3.4. Use two calls of `sns.lineplot` to plot the OLS estimate of the effect of dissent on repression and the IV (\"column 2\") estimate of this effect as a function of the year**"
   ]
  },
  {
   "cell_type": "code",
   "execution_count": null,
   "id": "8f1670e7",
   "metadata": {},
   "outputs": [],
   "source": []
  },
  {
   "cell_type": "markdown",
   "id": "16be5179",
   "metadata": {},
   "source": [
    "What you should get is a relatively smooth line corresponding to the OLS estimate, and a very volatile one corresponding to the IV estimates. The takeaway here is that even we we have data on every region of a continent, and data by day, the relationship between rainfall and dissent is not strong enough to reliably use as an instrument. The original paper pools across about 20 years, which is enough to find a reasonably strong \"first stage\" estimate, but the fact that we need nearly 7 million data points for this is a bit worrying."
   ]
  },
  {
   "cell_type": "code",
   "execution_count": null,
   "id": "b8e9c85f",
   "metadata": {},
   "outputs": [],
   "source": []
  }
 ],
 "metadata": {
  "kernelspec": {
   "display_name": "Python 3 (ipykernel)",
   "language": "python",
   "name": "python3"
  },
  "language_info": {
   "codemirror_mode": {
    "name": "ipython",
    "version": 3
   },
   "file_extension": ".py",
   "mimetype": "text/x-python",
   "name": "python",
   "nbconvert_exporter": "python",
   "pygments_lexer": "ipython3",
   "version": "3.9.7"
  }
 },
 "nbformat": 4,
 "nbformat_minor": 5
}
