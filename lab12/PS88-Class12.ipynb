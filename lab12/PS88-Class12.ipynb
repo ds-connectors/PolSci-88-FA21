{
 "cells": [
  {
   "cell_type": "markdown",
   "id": "49ef0f9d",
   "metadata": {},
   "source": [
    "# PS 88 - Week 12 - Class Demonstrations"
   ]
  },
  {
   "cell_type": "code",
   "execution_count": 1,
   "id": "4c21fe6c",
   "metadata": {},
   "outputs": [],
   "source": [
    "import numpy as np\n",
    "import pandas as pd\n",
    "import seaborn as sns\n",
    "import statsmodels.formula.api as smf\n",
    "import matplotlib.pyplot as plt\n",
    "%matplotlib inline"
   ]
  },
  {
   "cell_type": "markdown",
   "id": "3c903552",
   "metadata": {},
   "source": [
    "Here is code to produce oru simple two-person two-time period example. In the first period (\"before\"), neither watch Fox news, and in the second period (\"after\"), Sam starts watching Fox, but Carlos does not. "
   ]
  },
  {
   "cell_type": "code",
   "execution_count": 2,
   "id": "8999605b",
   "metadata": {},
   "outputs": [
    {
     "data": {
      "text/html": [
       "<div>\n",
       "<style scoped>\n",
       "    .dataframe tbody tr th:only-of-type {\n",
       "        vertical-align: middle;\n",
       "    }\n",
       "\n",
       "    .dataframe tbody tr th {\n",
       "        vertical-align: top;\n",
       "    }\n",
       "\n",
       "    .dataframe thead th {\n",
       "        text-align: right;\n",
       "    }\n",
       "</style>\n",
       "<table border=\"1\" class=\"dataframe\">\n",
       "  <thead>\n",
       "    <tr style=\"text-align: right;\">\n",
       "      <th></th>\n",
       "      <th>Name</th>\n",
       "      <th>Time</th>\n",
       "      <th>Fox</th>\n",
       "      <th>Cons</th>\n",
       "    </tr>\n",
       "  </thead>\n",
       "  <tbody>\n",
       "    <tr>\n",
       "      <th>0</th>\n",
       "      <td>Sam</td>\n",
       "      <td>Before</td>\n",
       "      <td>0</td>\n",
       "      <td>5</td>\n",
       "    </tr>\n",
       "    <tr>\n",
       "      <th>1</th>\n",
       "      <td>Sam</td>\n",
       "      <td>After</td>\n",
       "      <td>1</td>\n",
       "      <td>8</td>\n",
       "    </tr>\n",
       "    <tr>\n",
       "      <th>2</th>\n",
       "      <td>Carlos</td>\n",
       "      <td>Before</td>\n",
       "      <td>0</td>\n",
       "      <td>3</td>\n",
       "    </tr>\n",
       "    <tr>\n",
       "      <th>3</th>\n",
       "      <td>Carlos</td>\n",
       "      <td>After</td>\n",
       "      <td>0</td>\n",
       "      <td>4</td>\n",
       "    </tr>\n",
       "  </tbody>\n",
       "</table>\n",
       "</div>"
      ],
      "text/plain": [
       "     Name    Time  Fox  Cons\n",
       "0     Sam  Before    0     5\n",
       "1     Sam   After    1     8\n",
       "2  Carlos  Before    0     3\n",
       "3  Carlos   After    0     4"
      ]
     },
     "execution_count": 2,
     "metadata": {},
     "output_type": "execute_result"
    }
   ],
   "source": [
    "names = [\"Sam\", \"Sam\", \"Carlos\", \"Carlos\"]\n",
    "time = [\"Before\", \"After\", \"Before\", \"After\"]\n",
    "fox = [0,1,0,0]\n",
    "cons = [5,8,3,4]\n",
    "fox2 = pd.DataFrame({'Name': names, \"Time\": time, \"Fox\":fox, \"Cons\":cons})\n",
    "fox2"
   ]
  },
  {
   "cell_type": "markdown",
   "id": "0de5da9c",
   "metadata": {},
   "source": [
    "Plotting the trends"
   ]
  },
  {
   "cell_type": "code",
   "execution_count": 3,
   "id": "6002778e",
   "metadata": {},
   "outputs": [
    {
     "data": {
      "text/plain": [
       "<matplotlib.legend.Legend at 0x7fabd922c490>"
      ]
     },
     "execution_count": 3,
     "metadata": {},
     "output_type": "execute_result"
    },
    {
     "data": {
      "image/png": "[encoded data removed]",
      "text/plain": [
       "<Figure size 432x288 with 1 Axes>"
      ]
     },
     "metadata": {
      "needs_background": "light"
     },
     "output_type": "display_data"
    }
   ],
   "source": [
    "plt.plot([1,2],fox2.Cons[fox2['Name']=='Sam'], label=\"Sam\")\n",
    "plt.plot([1,2],fox2.Cons[fox2['Name']=='Carlos'], label=\"Carlos\")\n",
    "plt.xlabel('Time')\n",
    "plt.ylabel('Conservatism')\n",
    "plt.legend()"
   ]
  },
  {
   "cell_type": "markdown",
   "id": "333ff25c",
   "metadata": {},
   "source": [
    "Adding the difference in the \"after\" time, when Sam is watching Fox and Carlos is not."
   ]
  },
  {
   "cell_type": "code",
   "execution_count": 4,
   "id": "4322f217",
   "metadata": {},
   "outputs": [
    {
     "data": {
      "text/plain": [
       "<matplotlib.legend.Legend at 0x7fabd106cfd0>"
      ]
     },
     "execution_count": 4,
     "metadata": {},
     "output_type": "execute_result"
    },
    {
     "data": {
      "image/png": "[encoded data removed]",
      "text/plain": [
       "<Figure size 432x288 with 1 Axes>"
      ]
     },
     "metadata": {
      "needs_background": "light"
     },
     "output_type": "display_data"
    }
   ],
   "source": [
    "plt.plot([1,2],fox2.Cons[fox2['Name']=='Sam'], label=\"Sam\")\n",
    "plt.plot([1,2],fox2.Cons[fox2['Name']=='Carlos'], label=\"Carlos\")\n",
    "plt.xlabel('Time')\n",
    "plt.ylabel('Conservatism')\n",
    "plt.plot([2,2],[4,8], linestyle=\"--\")\n",
    "plt.legend()"
   ]
  },
  {
   "cell_type": "markdown",
   "id": "44d1b5fc",
   "metadata": {},
   "source": [
    "... Comparing this to the difference in the before time, when neither watches Fox."
   ]
  },
  {
   "cell_type": "code",
   "execution_count": 5,
   "id": "343a933f",
   "metadata": {},
   "outputs": [
    {
     "data": {
      "text/plain": [
       "<matplotlib.legend.Legend at 0x7fabd1050f10>"
      ]
     },
     "execution_count": 5,
     "metadata": {},
     "output_type": "execute_result"
    },
    {
     "data": {
      "image/png": "[encoded data removed]",
      "text/plain": [
       "<Figure size 432x288 with 1 Axes>"
      ]
     },
     "metadata": {
      "needs_background": "light"
     },
     "output_type": "display_data"
    }
   ],
   "source": [
    "plt.plot([1,2],fox2.Cons[fox2['Name']=='Sam'], label=\"Sam\")\n",
    "plt.plot([1,2],fox2.Cons[fox2['Name']=='Carlos'], label=\"Carlos\")\n",
    "plt.xlabel('Time')\n",
    "plt.ylabel('Conservatism')\n",
    "plt.plot([2,2],[4,8], linestyle=\"--\")\n",
    "plt.plot([1,1],[3,5], linestyle=\"--\")\n",
    "plt.legend()"
   ]
  },
  {
   "cell_type": "markdown",
   "id": "be23e0a9",
   "metadata": {},
   "source": [
    "What would the \"Counterfactual Sam\" think if he followed a similar trend as Carlos?"
   ]
  },
  {
   "cell_type": "code",
   "execution_count": 6,
   "id": "adaae8e1",
   "metadata": {},
   "outputs": [
    {
     "data": {
      "text/plain": [
       "<matplotlib.legend.Legend at 0x7fabd0fb26a0>"
      ]
     },
     "execution_count": 6,
     "metadata": {},
     "output_type": "execute_result"
    },
    {
     "data": {
      "image/png": "[encoded data removed]",
      "text/plain": [
       "<Figure size 432x288 with 1 Axes>"
      ]
     },
     "metadata": {
      "needs_background": "light"
     },
     "output_type": "display_data"
    }
   ],
   "source": [
    "plt.plot([1,2],fox2.Cons[fox2['Name']=='Sam'], label=\"Sam\")\n",
    "plt.plot([1,2],fox2.Cons[fox2['Name']=='Carlos'], label=\"Carlos\")\n",
    "plt.plot([2,2],[4,8], linestyle=\"--\")\n",
    "plt.plot([1,1],[3,5], linestyle=\"--\")\n",
    "plt.plot([1,2],[5,6], label=\"Counterfactual Sam\")\n",
    "plt.xlabel('Time')\n",
    "plt.ylabel('Conservatism')\n",
    "plt.legend()"
   ]
  },
  {
   "cell_type": "markdown",
   "id": "461656da",
   "metadata": {},
   "source": [
    "The difference between Sam and Counterfactual Same is our \"difference in difference\" estimate."
   ]
  },
  {
   "cell_type": "code",
   "execution_count": 7,
   "id": "f601ec01",
   "metadata": {},
   "outputs": [
    {
     "data": {
      "text/plain": [
       "<matplotlib.legend.Legend at 0x7fabd0f1f460>"
      ]
     },
     "execution_count": 7,
     "metadata": {},
     "output_type": "execute_result"
    },
    {
     "data": {
      "image/png": "[encoded data removed]",
      "text/plain": [
       "<Figure size 432x288 with 1 Axes>"
      ]
     },
     "metadata": {
      "needs_background": "light"
     },
     "output_type": "display_data"
    }
   ],
   "source": [
    "plt.plot([1,2],fox2.Cons[fox2['Name']=='Sam'], label=\"Sam\")\n",
    "plt.plot([1,2],fox2.Cons[fox2['Name']=='Carlos'], label=\"Carlos\")\n",
    "plt.plot([2,2],[6,8], linestyle=\"--\")\n",
    "plt.plot([1,2],[5,6], label=\"Counterfactual Sam\")\n",
    "plt.xlabel('Time')\n",
    "plt.ylabel('Conservatism')\n",
    "plt.legend()"
   ]
  },
  {
   "cell_type": "markdown",
   "id": "e0569fe2",
   "metadata": {},
   "source": [
    "We can also estimate this with a regression (though it gets mad because we don't have enough data to compute standard errors.)"
   ]
  },
  {
   "cell_type": "code",
   "execution_count": 8,
   "id": "ee88e1b8",
   "metadata": {},
   "outputs": [
    {
     "name": "stderr",
     "output_type": "stream",
     "text": [
      "/opt/conda/lib/python3.9/site-packages/statsmodels/stats/stattools.py:74: ValueWarning: omni_normtest is not valid with less than 8 observations; 4 samples were given.\n",
      "  warn(\"omni_normtest is not valid with less than 8 observations; %i \"\n",
      "/opt/conda/lib/python3.9/site-packages/statsmodels/regression/linear_model.py:1728: RuntimeWarning: divide by zero encountered in true_divide\n",
      "  return 1 - (np.divide(self.nobs - self.k_constant, self.df_resid)\n",
      "/opt/conda/lib/python3.9/site-packages/statsmodels/regression/linear_model.py:1728: RuntimeWarning: invalid value encountered in double_scalars\n",
      "  return 1 - (np.divide(self.nobs - self.k_constant, self.df_resid)\n",
      "/opt/conda/lib/python3.9/site-packages/statsmodels/regression/linear_model.py:1650: RuntimeWarning: divide by zero encountered in double_scalars\n",
      "  return np.dot(wresid, wresid) / self.df_resid\n"
     ]
    },
    {
     "data": {
      "text/html": [
       "<table class=\"simpletable\">\n",
       "<caption>OLS Regression Results</caption>\n",
       "<tr>\n",
       "  <th>Dep. Variable:</th>          <td>Cons</td>       <th>  R-squared:         </th> <td>   1.000</td>\n",
       "</tr>\n",
       "<tr>\n",
       "  <th>Model:</th>                   <td>OLS</td>       <th>  Adj. R-squared:    </th> <td>     nan</td>\n",
       "</tr>\n",
       "<tr>\n",
       "  <th>Method:</th>             <td>Least Squares</td>  <th>  F-statistic:       </th> <td>     nan</td>\n",
       "</tr>\n",
       "<tr>\n",
       "  <th>Date:</th>             <td>Thu, 18 Nov 2021</td> <th>  Prob (F-statistic):</th>  <td>   nan</td> \n",
       "</tr>\n",
       "<tr>\n",
       "  <th>Time:</th>                 <td>13:08:57</td>     <th>  Log-Likelihood:    </th> <td>  127.38</td>\n",
       "</tr>\n",
       "<tr>\n",
       "  <th>No. Observations:</th>      <td>     4</td>      <th>  AIC:               </th> <td>  -246.8</td>\n",
       "</tr>\n",
       "<tr>\n",
       "  <th>Df Residuals:</th>          <td>     0</td>      <th>  BIC:               </th> <td>  -249.2</td>\n",
       "</tr>\n",
       "<tr>\n",
       "  <th>Df Model:</th>              <td>     3</td>      <th>                     </th>     <td> </td>   \n",
       "</tr>\n",
       "<tr>\n",
       "  <th>Covariance Type:</th>      <td>nonrobust</td>    <th>                     </th>     <td> </td>   \n",
       "</tr>\n",
       "</table>\n",
       "<table class=\"simpletable\">\n",
       "<tr>\n",
       "      <td></td>         <th>coef</th>     <th>std err</th>      <th>t</th>      <th>P>|t|</th>  <th>[0.025</th>    <th>0.975]</th>  \n",
       "</tr>\n",
       "<tr>\n",
       "  <th>Intercept</th> <td>    3.0000</td> <td>      inf</td> <td>        0</td> <td>   nan</td> <td>      nan</td> <td>      nan</td>\n",
       "</tr>\n",
       "<tr>\n",
       "  <th>Sam</th>       <td>    2.0000</td> <td>      inf</td> <td>        0</td> <td>   nan</td> <td>      nan</td> <td>      nan</td>\n",
       "</tr>\n",
       "<tr>\n",
       "  <th>After</th>     <td>    1.0000</td> <td>      inf</td> <td>        0</td> <td>   nan</td> <td>      nan</td> <td>      nan</td>\n",
       "</tr>\n",
       "<tr>\n",
       "  <th>Fox</th>       <td>    2.0000</td> <td>      inf</td> <td>        0</td> <td>   nan</td> <td>      nan</td> <td>      nan</td>\n",
       "</tr>\n",
       "</table>\n",
       "<table class=\"simpletable\">\n",
       "<tr>\n",
       "  <th>Omnibus:</th>       <td>   nan</td> <th>  Durbin-Watson:     </th> <td>   0.446</td>\n",
       "</tr>\n",
       "<tr>\n",
       "  <th>Prob(Omnibus):</th> <td>   nan</td> <th>  Jarque-Bera (JB):  </th> <td>   0.348</td>\n",
       "</tr>\n",
       "<tr>\n",
       "  <th>Skew:</th>          <td>-0.435</td> <th>  Prob(JB):          </th> <td>   0.840</td>\n",
       "</tr>\n",
       "<tr>\n",
       "  <th>Kurtosis:</th>      <td> 1.846</td> <th>  Cond. No.          </th> <td>    6.85</td>\n",
       "</tr>\n",
       "</table><br/><br/>Notes:<br/>[1] Standard Errors assume that the covariance matrix of the errors is correctly specified."
      ],
      "text/plain": [
       "<class 'statsmodels.iolib.summary.Summary'>\n",
       "\"\"\"\n",
       "                            OLS Regression Results                            \n",
       "==============================================================================\n",
       "Dep. Variable:                   Cons   R-squared:                       1.000\n",
       "Model:                            OLS   Adj. R-squared:                    nan\n",
       "Method:                 Least Squares   F-statistic:                       nan\n",
       "Date:                Thu, 18 Nov 2021   Prob (F-statistic):                nan\n",
       "Time:                        13:08:57   Log-Likelihood:                 127.38\n",
       "No. Observations:                   4   AIC:                            -246.8\n",
       "Df Residuals:                       0   BIC:                            -249.2\n",
       "Df Model:                           3                                         \n",
       "Covariance Type:            nonrobust                                         \n",
       "==============================================================================\n",
       "                 coef    std err          t      P>|t|      [0.025      0.975]\n",
       "------------------------------------------------------------------------------\n",
       "Intercept      3.0000        inf          0        nan         nan         nan\n",
       "Sam            2.0000        inf          0        nan         nan         nan\n",
       "After          1.0000        inf          0        nan         nan         nan\n",
       "Fox            2.0000        inf          0        nan         nan         nan\n",
       "==============================================================================\n",
       "Omnibus:                          nan   Durbin-Watson:                   0.446\n",
       "Prob(Omnibus):                    nan   Jarque-Bera (JB):                0.348\n",
       "Skew:                          -0.435   Prob(JB):                        0.840\n",
       "Kurtosis:                       1.846   Cond. No.                         6.85\n",
       "==============================================================================\n",
       "\n",
       "Notes:\n",
       "[1] Standard Errors assume that the covariance matrix of the errors is correctly specified.\n",
       "\"\"\""
      ]
     },
     "execution_count": 8,
     "metadata": {},
     "output_type": "execute_result"
    }
   ],
   "source": [
    "fox2['Sam'] = 1*(fox2['Name']==\"Sam\")\n",
    "fox2['After'] = 1*(fox2['Time']==\"After\")                 \n",
    "smf.ols(\"Cons ~ Sam + After + Fox\", data=fox2).fit().summary()"
   ]
  },
  {
   "cell_type": "markdown",
   "id": "8304d7ae",
   "metadata": {},
   "source": [
    "Let's see what things look like with a few more periods."
   ]
  },
  {
   "cell_type": "code",
   "execution_count": 9,
   "id": "7d074cba",
   "metadata": {},
   "outputs": [],
   "source": [
    "samdata = pd.DataFrame({\"Name\":[\"Sam\",\"Sam\",\"Sam\",\"Sam\",\"Sam\",\"Sam\"],\n",
    "                        \"Time\":[1,2,3,4,5,6],\n",
    "                        \"Fox\": [0,0,0,1,1,1],\n",
    "                       \"Cons\":[4,4,5,8,8,7]})\n",
    "carlosdata = pd.DataFrame({\"Name\":[\"Carlos\",\"Carlos\",\"Carlos\",\"Carlos\",\"Carlos\",\"Carlos\"],\n",
    "                           \"Time\":[1,2,3,4,5,6],\n",
    "                        \"Fox\": [0,0,0,0,0,0],\n",
    "                       \"Cons\":[2,3,3,4,3,3]})"
   ]
  },
  {
   "cell_type": "markdown",
   "id": "8434c4fe",
   "metadata": {},
   "source": [
    "Plotting both:"
   ]
  },
  {
   "cell_type": "code",
   "execution_count": 10,
   "id": "04fdd00f",
   "metadata": {},
   "outputs": [
    {
     "data": {
      "text/plain": [
       "<matplotlib.lines.Line2D at 0x7fabd0e059d0>"
      ]
     },
     "execution_count": 10,
     "metadata": {},
     "output_type": "execute_result"
    },
    {
     "data": {
      "image/png": "[encoded data removed]",
      "text/plain": [
       "<Figure size 432x288 with 1 Axes>"
      ]
     },
     "metadata": {
      "needs_background": "light"
     },
     "output_type": "display_data"
    }
   ],
   "source": [
    "plt.plot(samdata['Time'],samdata['Cons'], label=\"Sam\")\n",
    "plt.plot(carlosdata['Time'],carlosdata['Cons'], label=\"Carlos\")\n",
    "plt.axvline(3)"
   ]
  },
  {
   "cell_type": "markdown",
   "id": "f5e34d62",
   "metadata": {},
   "source": [
    "To run a regression we need to combine the two dataframes. We can do that with the `pd.concat` function."
   ]
  },
  {
   "cell_type": "code",
   "execution_count": 11,
   "id": "e39706e8",
   "metadata": {},
   "outputs": [
    {
     "data": {
      "text/html": [
       "<div>\n",
       "<style scoped>\n",
       "    .dataframe tbody tr th:only-of-type {\n",
       "        vertical-align: middle;\n",
       "    }\n",
       "\n",
       "    .dataframe tbody tr th {\n",
       "        vertical-align: top;\n",
       "    }\n",
       "\n",
       "    .dataframe thead th {\n",
       "        text-align: right;\n",
       "    }\n",
       "</style>\n",
       "<table border=\"1\" class=\"dataframe\">\n",
       "  <thead>\n",
       "    <tr style=\"text-align: right;\">\n",
       "      <th></th>\n",
       "      <th>Name</th>\n",
       "      <th>Time</th>\n",
       "      <th>Fox</th>\n",
       "      <th>Cons</th>\n",
       "    </tr>\n",
       "  </thead>\n",
       "  <tbody>\n",
       "    <tr>\n",
       "      <th>0</th>\n",
       "      <td>Sam</td>\n",
       "      <td>1</td>\n",
       "      <td>0</td>\n",
       "      <td>4</td>\n",
       "    </tr>\n",
       "    <tr>\n",
       "      <th>1</th>\n",
       "      <td>Sam</td>\n",
       "      <td>2</td>\n",
       "      <td>0</td>\n",
       "      <td>4</td>\n",
       "    </tr>\n",
       "    <tr>\n",
       "      <th>2</th>\n",
       "      <td>Sam</td>\n",
       "      <td>3</td>\n",
       "      <td>0</td>\n",
       "      <td>5</td>\n",
       "    </tr>\n",
       "    <tr>\n",
       "      <th>3</th>\n",
       "      <td>Sam</td>\n",
       "      <td>4</td>\n",
       "      <td>1</td>\n",
       "      <td>8</td>\n",
       "    </tr>\n",
       "    <tr>\n",
       "      <th>4</th>\n",
       "      <td>Sam</td>\n",
       "      <td>5</td>\n",
       "      <td>1</td>\n",
       "      <td>8</td>\n",
       "    </tr>\n",
       "    <tr>\n",
       "      <th>5</th>\n",
       "      <td>Sam</td>\n",
       "      <td>6</td>\n",
       "      <td>1</td>\n",
       "      <td>7</td>\n",
       "    </tr>\n",
       "    <tr>\n",
       "      <th>0</th>\n",
       "      <td>Carlos</td>\n",
       "      <td>1</td>\n",
       "      <td>0</td>\n",
       "      <td>2</td>\n",
       "    </tr>\n",
       "    <tr>\n",
       "      <th>1</th>\n",
       "      <td>Carlos</td>\n",
       "      <td>2</td>\n",
       "      <td>0</td>\n",
       "      <td>3</td>\n",
       "    </tr>\n",
       "    <tr>\n",
       "      <th>2</th>\n",
       "      <td>Carlos</td>\n",
       "      <td>3</td>\n",
       "      <td>0</td>\n",
       "      <td>3</td>\n",
       "    </tr>\n",
       "    <tr>\n",
       "      <th>3</th>\n",
       "      <td>Carlos</td>\n",
       "      <td>4</td>\n",
       "      <td>0</td>\n",
       "      <td>4</td>\n",
       "    </tr>\n",
       "    <tr>\n",
       "      <th>4</th>\n",
       "      <td>Carlos</td>\n",
       "      <td>5</td>\n",
       "      <td>0</td>\n",
       "      <td>3</td>\n",
       "    </tr>\n",
       "    <tr>\n",
       "      <th>5</th>\n",
       "      <td>Carlos</td>\n",
       "      <td>6</td>\n",
       "      <td>0</td>\n",
       "      <td>3</td>\n",
       "    </tr>\n",
       "  </tbody>\n",
       "</table>\n",
       "</div>"
      ],
      "text/plain": [
       "     Name  Time  Fox  Cons\n",
       "0     Sam     1    0     4\n",
       "1     Sam     2    0     4\n",
       "2     Sam     3    0     5\n",
       "3     Sam     4    1     8\n",
       "4     Sam     5    1     8\n",
       "5     Sam     6    1     7\n",
       "0  Carlos     1    0     2\n",
       "1  Carlos     2    0     3\n",
       "2  Carlos     3    0     3\n",
       "3  Carlos     4    0     4\n",
       "4  Carlos     5    0     3\n",
       "5  Carlos     6    0     3"
      ]
     },
     "execution_count": 11,
     "metadata": {},
     "output_type": "execute_result"
    }
   ],
   "source": [
    "alldata = pd.concat([samdata, carlosdata])\n",
    "alldata"
   ]
  },
  {
   "cell_type": "markdown",
   "id": "3d500b02",
   "metadata": {},
   "source": [
    "To create time period fixed effects, we can careate a new variable that is converted to a string with `.astype(srt)`"
   ]
  },
  {
   "cell_type": "code",
   "execution_count": 12,
   "id": "b65a5d7e",
   "metadata": {},
   "outputs": [
    {
     "data": {
      "text/html": [
       "<div>\n",
       "<style scoped>\n",
       "    .dataframe tbody tr th:only-of-type {\n",
       "        vertical-align: middle;\n",
       "    }\n",
       "\n",
       "    .dataframe tbody tr th {\n",
       "        vertical-align: top;\n",
       "    }\n",
       "\n",
       "    .dataframe thead th {\n",
       "        text-align: right;\n",
       "    }\n",
       "</style>\n",
       "<table border=\"1\" class=\"dataframe\">\n",
       "  <thead>\n",
       "    <tr style=\"text-align: right;\">\n",
       "      <th></th>\n",
       "      <th>Name</th>\n",
       "      <th>Time</th>\n",
       "      <th>Fox</th>\n",
       "      <th>Cons</th>\n",
       "      <th>Time_n</th>\n",
       "    </tr>\n",
       "  </thead>\n",
       "  <tbody>\n",
       "    <tr>\n",
       "      <th>0</th>\n",
       "      <td>Sam</td>\n",
       "      <td>1</td>\n",
       "      <td>0</td>\n",
       "      <td>4</td>\n",
       "      <td>1</td>\n",
       "    </tr>\n",
       "    <tr>\n",
       "      <th>1</th>\n",
       "      <td>Sam</td>\n",
       "      <td>2</td>\n",
       "      <td>0</td>\n",
       "      <td>4</td>\n",
       "      <td>2</td>\n",
       "    </tr>\n",
       "    <tr>\n",
       "      <th>2</th>\n",
       "      <td>Sam</td>\n",
       "      <td>3</td>\n",
       "      <td>0</td>\n",
       "      <td>5</td>\n",
       "      <td>3</td>\n",
       "    </tr>\n",
       "    <tr>\n",
       "      <th>3</th>\n",
       "      <td>Sam</td>\n",
       "      <td>4</td>\n",
       "      <td>1</td>\n",
       "      <td>8</td>\n",
       "      <td>4</td>\n",
       "    </tr>\n",
       "    <tr>\n",
       "      <th>4</th>\n",
       "      <td>Sam</td>\n",
       "      <td>5</td>\n",
       "      <td>1</td>\n",
       "      <td>8</td>\n",
       "      <td>5</td>\n",
       "    </tr>\n",
       "    <tr>\n",
       "      <th>5</th>\n",
       "      <td>Sam</td>\n",
       "      <td>6</td>\n",
       "      <td>1</td>\n",
       "      <td>7</td>\n",
       "      <td>6</td>\n",
       "    </tr>\n",
       "    <tr>\n",
       "      <th>0</th>\n",
       "      <td>Carlos</td>\n",
       "      <td>1</td>\n",
       "      <td>0</td>\n",
       "      <td>2</td>\n",
       "      <td>1</td>\n",
       "    </tr>\n",
       "    <tr>\n",
       "      <th>1</th>\n",
       "      <td>Carlos</td>\n",
       "      <td>2</td>\n",
       "      <td>0</td>\n",
       "      <td>3</td>\n",
       "      <td>2</td>\n",
       "    </tr>\n",
       "    <tr>\n",
       "      <th>2</th>\n",
       "      <td>Carlos</td>\n",
       "      <td>3</td>\n",
       "      <td>0</td>\n",
       "      <td>3</td>\n",
       "      <td>3</td>\n",
       "    </tr>\n",
       "    <tr>\n",
       "      <th>3</th>\n",
       "      <td>Carlos</td>\n",
       "      <td>4</td>\n",
       "      <td>0</td>\n",
       "      <td>4</td>\n",
       "      <td>4</td>\n",
       "    </tr>\n",
       "    <tr>\n",
       "      <th>4</th>\n",
       "      <td>Carlos</td>\n",
       "      <td>5</td>\n",
       "      <td>0</td>\n",
       "      <td>3</td>\n",
       "      <td>5</td>\n",
       "    </tr>\n",
       "    <tr>\n",
       "      <th>5</th>\n",
       "      <td>Carlos</td>\n",
       "      <td>6</td>\n",
       "      <td>0</td>\n",
       "      <td>3</td>\n",
       "      <td>6</td>\n",
       "    </tr>\n",
       "  </tbody>\n",
       "</table>\n",
       "</div>"
      ],
      "text/plain": [
       "     Name  Time  Fox  Cons Time_n\n",
       "0     Sam     1    0     4      1\n",
       "1     Sam     2    0     4      2\n",
       "2     Sam     3    0     5      3\n",
       "3     Sam     4    1     8      4\n",
       "4     Sam     5    1     8      5\n",
       "5     Sam     6    1     7      6\n",
       "0  Carlos     1    0     2      1\n",
       "1  Carlos     2    0     3      2\n",
       "2  Carlos     3    0     3      3\n",
       "3  Carlos     4    0     4      4\n",
       "4  Carlos     5    0     3      5\n",
       "5  Carlos     6    0     3      6"
      ]
     },
     "execution_count": 12,
     "metadata": {},
     "output_type": "execute_result"
    }
   ],
   "source": [
    "alldata['Time_n'] = alldata['Time'].astype(str)\n",
    "alldata"
   ]
  },
  {
   "cell_type": "markdown",
   "id": "11cb8b0c",
   "metadata": {},
   "source": [
    "Compting the change in Sam's average conservatism before and after watching Fox.\n",
    "\n",
    "Note we are using a new way to refer to columns of a data frame. If \"Var\" is a column name in df, we can refer to it with df.Var. "
   ]
  },
  {
   "cell_type": "code",
   "execution_count": 13,
   "id": "58743b3e",
   "metadata": {},
   "outputs": [
    {
     "data": {
      "text/plain": [
       "3.333333333333334"
      ]
     },
     "execution_count": 13,
     "metadata": {},
     "output_type": "execute_result"
    }
   ],
   "source": [
    "diffsam = np.mean(samdata.Cons[samdata['Time'] > 3]) - np.mean(samdata.Cons[samdata['Time'] <= 3])\n",
    "diffsam"
   ]
  },
  {
   "cell_type": "markdown",
   "id": "4bc1140a",
   "metadata": {},
   "source": [
    "Now taking the change in averagace conservatism in Carlos, from time after *Sam* starting watching Fox to before."
   ]
  },
  {
   "cell_type": "code",
   "execution_count": 14,
   "id": "f6fe93b4",
   "metadata": {},
   "outputs": [
    {
     "data": {
      "text/plain": [
       "0.666666666666667"
      ]
     },
     "execution_count": 14,
     "metadata": {},
     "output_type": "execute_result"
    }
   ],
   "source": [
    "diffcarlos = np.mean(carlosdata.Cons[carlosdata['Time'] > 3]) - np.mean(carlosdata.Cons[carlosdata['Time'] <= 3])\n",
    "diffcarlos"
   ]
  },
  {
   "cell_type": "markdown",
   "id": "bf37c837",
   "metadata": {},
   "source": [
    "The difference in differences is then:"
   ]
  },
  {
   "cell_type": "code",
   "execution_count": 15,
   "id": "e484be12",
   "metadata": {},
   "outputs": [
    {
     "data": {
      "text/plain": [
       "2.666666666666667"
      ]
     },
     "execution_count": 15,
     "metadata": {},
     "output_type": "execute_result"
    }
   ],
   "source": [
    "diffsam - diffcarlos"
   ]
  },
  {
   "cell_type": "markdown",
   "id": "535fe7f5",
   "metadata": {},
   "source": [
    "To get this in regression form, we use `Cons` as the depenent variable in a regression taht includes watching Fox as an independent variable, along with the person and time fixed effects."
   ]
  },
  {
   "cell_type": "code",
   "execution_count": 16,
   "id": "acdec70a",
   "metadata": {},
   "outputs": [
    {
     "name": "stderr",
     "output_type": "stream",
     "text": [
      "/opt/conda/lib/python3.9/site-packages/scipy/stats/stats.py:1541: UserWarning: kurtosistest only valid for n>=20 ... continuing anyway, n=12\n",
      "  warnings.warn(\"kurtosistest only valid for n>=20 ... continuing \"\n"
     ]
    },
    {
     "data": {
      "text/html": [
       "<table class=\"simpletable\">\n",
       "<caption>OLS Regression Results</caption>\n",
       "<tr>\n",
       "  <th>Dep. Variable:</th>          <td>Cons</td>       <th>  R-squared:         </th> <td>   0.986</td>\n",
       "</tr>\n",
       "<tr>\n",
       "  <th>Model:</th>                   <td>OLS</td>       <th>  Adj. R-squared:    </th> <td>   0.961</td>\n",
       "</tr>\n",
       "<tr>\n",
       "  <th>Method:</th>             <td>Least Squares</td>  <th>  F-statistic:       </th> <td>   39.71</td>\n",
       "</tr>\n",
       "<tr>\n",
       "  <th>Date:</th>             <td>Thu, 18 Nov 2021</td> <th>  Prob (F-statistic):</th>  <td>0.00155</td>\n",
       "</tr>\n",
       "<tr>\n",
       "  <th>Time:</th>                 <td>13:09:48</td>     <th>  Log-Likelihood:    </th> <td> 0.31497</td>\n",
       "</tr>\n",
       "<tr>\n",
       "  <th>No. Observations:</th>      <td>    12</td>      <th>  AIC:               </th> <td>   15.37</td>\n",
       "</tr>\n",
       "<tr>\n",
       "  <th>Df Residuals:</th>          <td>     4</td>      <th>  BIC:               </th> <td>   19.25</td>\n",
       "</tr>\n",
       "<tr>\n",
       "  <th>Df Model:</th>              <td>     7</td>      <th>                     </th>     <td> </td>   \n",
       "</tr>\n",
       "<tr>\n",
       "  <th>Covariance Type:</th>      <td>nonrobust</td>    <th>                     </th>     <td> </td>   \n",
       "</tr>\n",
       "</table>\n",
       "<table class=\"simpletable\">\n",
       "<tr>\n",
       "       <td></td>          <th>coef</th>     <th>std err</th>      <th>t</th>      <th>P>|t|</th>  <th>[0.025</th>    <th>0.975]</th>  \n",
       "</tr>\n",
       "<tr>\n",
       "  <th>Intercept</th>   <td>    2.1667</td> <td>    0.333</td> <td>    6.500</td> <td> 0.003</td> <td>    1.241</td> <td>    3.092</td>\n",
       "</tr>\n",
       "<tr>\n",
       "  <th>Name[T.Sam]</th> <td>    1.6667</td> <td>    0.333</td> <td>    5.000</td> <td> 0.007</td> <td>    0.741</td> <td>    2.592</td>\n",
       "</tr>\n",
       "<tr>\n",
       "  <th>Time_n[T.2]</th> <td>    0.5000</td> <td>    0.408</td> <td>    1.225</td> <td> 0.288</td> <td>   -0.633</td> <td>    1.633</td>\n",
       "</tr>\n",
       "<tr>\n",
       "  <th>Time_n[T.3]</th> <td>    1.0000</td> <td>    0.408</td> <td>    2.449</td> <td> 0.070</td> <td>   -0.133</td> <td>    2.133</td>\n",
       "</tr>\n",
       "<tr>\n",
       "  <th>Time_n[T.4]</th> <td>    1.6667</td> <td>    0.471</td> <td>    3.536</td> <td> 0.024</td> <td>    0.358</td> <td>    2.975</td>\n",
       "</tr>\n",
       "<tr>\n",
       "  <th>Time_n[T.5]</th> <td>    1.1667</td> <td>    0.471</td> <td>    2.475</td> <td> 0.069</td> <td>   -0.142</td> <td>    2.475</td>\n",
       "</tr>\n",
       "<tr>\n",
       "  <th>Time_n[T.6]</th> <td>    0.6667</td> <td>    0.471</td> <td>    1.414</td> <td> 0.230</td> <td>   -0.642</td> <td>    1.975</td>\n",
       "</tr>\n",
       "<tr>\n",
       "  <th>Fox</th>         <td>    2.6667</td> <td>    0.471</td> <td>    5.657</td> <td> 0.005</td> <td>    1.358</td> <td>    3.975</td>\n",
       "</tr>\n",
       "</table>\n",
       "<table class=\"simpletable\">\n",
       "<tr>\n",
       "  <th>Omnibus:</th>       <td> 3.659</td> <th>  Durbin-Watson:     </th> <td>   3.333</td>\n",
       "</tr>\n",
       "<tr>\n",
       "  <th>Prob(Omnibus):</th> <td> 0.160</td> <th>  Jarque-Bera (JB):  </th> <td>   1.125</td>\n",
       "</tr>\n",
       "<tr>\n",
       "  <th>Skew:</th>          <td>-0.000</td> <th>  Prob(JB):          </th> <td>   0.570</td>\n",
       "</tr>\n",
       "<tr>\n",
       "  <th>Kurtosis:</th>      <td> 1.500</td> <th>  Cond. No.          </th> <td>    9.35</td>\n",
       "</tr>\n",
       "</table><br/><br/>Notes:<br/>[1] Standard Errors assume that the covariance matrix of the errors is correctly specified."
      ],
      "text/plain": [
       "<class 'statsmodels.iolib.summary.Summary'>\n",
       "\"\"\"\n",
       "                            OLS Regression Results                            \n",
       "==============================================================================\n",
       "Dep. Variable:                   Cons   R-squared:                       0.986\n",
       "Model:                            OLS   Adj. R-squared:                  0.961\n",
       "Method:                 Least Squares   F-statistic:                     39.71\n",
       "Date:                Thu, 18 Nov 2021   Prob (F-statistic):            0.00155\n",
       "Time:                        13:09:48   Log-Likelihood:                0.31497\n",
       "No. Observations:                  12   AIC:                             15.37\n",
       "Df Residuals:                       4   BIC:                             19.25\n",
       "Df Model:                           7                                         \n",
       "Covariance Type:            nonrobust                                         \n",
       "===============================================================================\n",
       "                  coef    std err          t      P>|t|      [0.025      0.975]\n",
       "-------------------------------------------------------------------------------\n",
       "Intercept       2.1667      0.333      6.500      0.003       1.241       3.092\n",
       "Name[T.Sam]     1.6667      0.333      5.000      0.007       0.741       2.592\n",
       "Time_n[T.2]     0.5000      0.408      1.225      0.288      -0.633       1.633\n",
       "Time_n[T.3]     1.0000      0.408      2.449      0.070      -0.133       2.133\n",
       "Time_n[T.4]     1.6667      0.471      3.536      0.024       0.358       2.975\n",
       "Time_n[T.5]     1.1667      0.471      2.475      0.069      -0.142       2.475\n",
       "Time_n[T.6]     0.6667      0.471      1.414      0.230      -0.642       1.975\n",
       "Fox             2.6667      0.471      5.657      0.005       1.358       3.975\n",
       "==============================================================================\n",
       "Omnibus:                        3.659   Durbin-Watson:                   3.333\n",
       "Prob(Omnibus):                  0.160   Jarque-Bera (JB):                1.125\n",
       "Skew:                          -0.000   Prob(JB):                        0.570\n",
       "Kurtosis:                       1.500   Cond. No.                         9.35\n",
       "==============================================================================\n",
       "\n",
       "Notes:\n",
       "[1] Standard Errors assume that the covariance matrix of the errors is correctly specified.\n",
       "\"\"\""
      ]
     },
     "execution_count": 16,
     "metadata": {},
     "output_type": "execute_result"
    }
   ],
   "source": [
    "smf.ols(\"Cons ~ Fox + Name + Time_n\", data=alldata).fit().summary()"
   ]
  },
  {
   "cell_type": "markdown",
   "id": "31e7c085",
   "metadata": {},
   "source": [
    "The coefficient on Fox is 2.33, equal to the differences in differences estimate!"
   ]
  },
  {
   "cell_type": "code",
   "execution_count": null,
   "id": "0529812c",
   "metadata": {},
   "outputs": [],
   "source": []
  }
 ],
 "metadata": {
  "kernelspec": {
   "display_name": "Python 3 (ipykernel)",
   "language": "python",
   "name": "python3"
  },
  "language_info": {
   "codemirror_mode": {
    "name": "ipython",
    "version": 3
   },
   "file_extension": ".py",
   "mimetype": "text/x-python",
   "name": "python",
   "nbconvert_exporter": "python",
   "pygments_lexer": "ipython3",
   "version": "3.9.7"
  }
 },
 "nbformat": 4,
 "nbformat_minor": 5
}
